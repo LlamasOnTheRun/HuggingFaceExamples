{
 "cells": [
  {
   "cell_type": "code",
   "execution_count": 1,
   "id": "dc953269-d9d9-43e1-8fa3-ee508e1f72a1",
   "metadata": {
    "editable": true,
    "slideshow": {
     "slide_type": ""
    },
    "tags": []
   },
   "outputs": [],
   "source": [
    "from transformers import pipeline, AutoTokenizer, AutoModelForSequenceClassification\n",
    "import pprint\n",
    "import torch"
   ]
  },
  {
   "cell_type": "code",
   "execution_count": 6,
   "id": "0377334f-0b4e-4802-9a6a-bf211917e881",
   "metadata": {},
   "outputs": [
    {
     "name": "stderr",
     "output_type": "stream",
     "text": [
      "No model was supplied, defaulted to distilbert-base-uncased-finetuned-sst-2-english and revision af0f99b (https://huggingface.co/distilbert-base-uncased-finetuned-sst-2-english).\n",
      "Using a pipeline without specifying a model name and revision in production is not recommended.\n"
     ]
    },
    {
     "name": "stdout",
     "output_type": "stream",
     "text": [
      "label: POSITIVE, with score: 0.9994\n"
     ]
    }
   ],
   "source": [
    "# Performs Text Classification\n",
    "classifier = pipeline(\"sentiment-analysis\")\n",
    "results = classifier([\"Harry is a fan of jazz\"])\n",
    "# Individual Results to say Positive or Negative\n",
    "for result in results:\n",
    "    print(f\"label: {result['label']}, with score: {round(result['score'], 4)}\")"
   ]
  },
  {
   "cell_type": "code",
   "execution_count": 5,
   "id": "01d0fbf0-168b-4d02-b9f7-0eeb5dfab9b9",
   "metadata": {},
   "outputs": [
    {
     "name": "stderr",
     "output_type": "stream",
     "text": [
      "No model was supplied, defaulted to facebook/bart-large-mnli and revision c626438 (https://huggingface.co/facebook/bart-large-mnli).\n",
      "Using a pipeline without specifying a model name and revision in production is not recommended.\n"
     ]
    },
    {
     "name": "stdout",
     "output_type": "stream",
     "text": [
      "{'labels': ['Jazz', 'Music'],\n",
      " 'scores': [0.5955864787101746, 0.40441352128982544],\n",
      " 'sequence': 'Harry is really good at Jazz'}\n"
     ]
    }
   ],
   "source": [
    "# Labels are provided\n",
    "classifier = pipeline(\"zero-shot-classification\")\n",
    "results = classifier(\n",
    "    \"Harry is really good at Jazz\",\n",
    "    candidate_labels=[\"Music\", \"Jazz\"],\n",
    "    template=\"The music being discussed is about {}\",\n",
    ")\n",
    "pprint.pprint(results)"
   ]
  },
  {
   "cell_type": "code",
   "execution_count": 7,
   "id": "08b97dba-6550-429a-955b-7da653440cc8",
   "metadata": {},
   "outputs": [
    {
     "name": "stderr",
     "output_type": "stream",
     "text": [
      "No model was supplied, defaulted to gpt2 and revision 6c0e608 (https://huggingface.co/gpt2).\n",
      "Using a pipeline without specifying a model name and revision in production is not recommended.\n",
      "Setting `pad_token_id` to `eos_token_id`:50256 for open-end generation.\n"
     ]
    },
    {
     "name": "stdout",
     "output_type": "stream",
     "text": [
      "[{'generated_text': 'We will discuss the finite opportunity for this star '\n",
      "                    'academy. The programs available, where available, will '\n",
      "                    'have a variety of scholarships to be administered by the '\n",
      "                    'Texas A&M Athletic Department. The scholarships include: '\n",
      "                    'A&M Sports Program, The A&M'}]\n"
     ]
    }
   ],
   "source": [
    "# Will be different upon each execution\n",
    "classifier = pipeline(\"text-generation\")\n",
    "results = classifier(\n",
    "    \"We will discuss the finite opportunity for this star academy. The programs available\"\n",
    ")\n",
    "pprint.pprint(results)"
   ]
  },
  {
   "cell_type": "code",
   "execution_count": 8,
   "id": "b18157ca-42d8-415e-9bab-dc11d3351b2a",
   "metadata": {},
   "outputs": [
    {
     "name": "stderr",
     "output_type": "stream",
     "text": [
      "No model was supplied, defaulted to distilroberta-base and revision ec58a5b (https://huggingface.co/distilroberta-base).\n",
      "Using a pipeline without specifying a model name and revision in production is not recommended.\n",
      "Some weights of the model checkpoint at distilroberta-base were not used when initializing RobertaForMaskedLM: ['roberta.pooler.dense.weight', 'roberta.pooler.dense.bias']\n",
      "- This IS expected if you are initializing RobertaForMaskedLM from the checkpoint of a model trained on another task or with another architecture (e.g. initializing a BertForSequenceClassification model from a BertForPreTraining model).\n",
      "- This IS NOT expected if you are initializing RobertaForMaskedLM from the checkpoint of a model that you expect to be exactly identical (initializing a BertForSequenceClassification model from a BertForSequenceClassification model).\n"
     ]
    },
    {
     "name": "stdout",
     "output_type": "stream",
     "text": [
      "[{'score': 0.182015523314476,\n",
      "  'sequence': 'Jimmy had a chance yes he really did when he was born',\n",
      "  'token': 2421,\n",
      "  'token_str': ' born'},\n",
      " {'score': 0.06008512154221535,\n",
      "  'sequence': 'Jimmy had a chance yes he really did when he was younger',\n",
      "  'token': 3240,\n",
      "  'token_str': ' younger'}]\n"
     ]
    }
   ],
   "source": [
    "classifier = pipeline(\"fill-mask\")  # Pretrain method of BERT\n",
    "results = classifier(\n",
    "    \"Jimmy had a chance yes he really did when he was <mask>\", top_k=2\n",
    ")\n",
    "pprint.pprint(results)"
   ]
  },
  {
   "cell_type": "code",
   "execution_count": 9,
   "id": "2676ba64-f669-457e-90a8-dc01b40de554",
   "metadata": {},
   "outputs": [
    {
     "name": "stderr",
     "output_type": "stream",
     "text": [
      "Setting `pad_token_id` to `eos_token_id`:50256 for open-end generation.\n"
     ]
    },
    {
     "name": "stdout",
     "output_type": "stream",
     "text": [
      "[{'generated_text': 'In this course, we will go over the fundamentals of these '\n",
      "                    'methods and how they can be used in class management. '\n",
      "                    'This is a class management class and'},\n",
      " {'generated_text': 'In this course, we will go over the fundamentals of human '\n",
      "                    'genetics to the next chapter of Nature Evolution Science, '\n",
      "                    'and look at the contributions of scientists making'}]\n"
     ]
    }
   ],
   "source": [
    "classifier = pipeline(\n",
    "    \"text-generation\",\n",
    "    model=\"distilgpt2\"  # Lightweight model\n",
    ")\n",
    "results = classifier(\n",
    "    \"In this course, we will go over the fundamentals of\",\n",
    "    max_length=30,  # Max number of words to be generated\n",
    "    num_return_sequences=2  # Num of generated text to return\n",
    ")\n",
    "pprint.pprint(results)"
   ]
  },
  {
   "cell_type": "code",
   "execution_count": 10,
   "id": "85b06274-0a1d-471f-b73d-86af8e095e7a",
   "metadata": {},
   "outputs": [
    {
     "name": "stderr",
     "output_type": "stream",
     "text": [
      "No model was supplied, defaulted to dbmdz/bert-large-cased-finetuned-conll03-english and revision f2482bf (https://huggingface.co/dbmdz/bert-large-cased-finetuned-conll03-english).\n",
      "Using a pipeline without specifying a model name and revision in production is not recommended.\n"
     ]
    },
    {
     "data": {
      "application/json": {
       "ascii": false,
       "bar_format": null,
       "colour": null,
       "elapsed": 0.005056619644165039,
       "initial": 0,
       "n": 0,
       "ncols": null,
       "nrows": 29,
       "postfix": null,
       "prefix": "Downloading (…)lve/main/config.json",
       "rate": null,
       "total": 998,
       "unit": "B",
       "unit_divisor": 1000,
       "unit_scale": true
      },
      "application/vnd.jupyter.widget-view+json": {
       "model_id": "239e7e0b73184d1fa3badf627b9d8fa5",
       "version_major": 2,
       "version_minor": 0
      },
      "text/plain": [
       "Downloading (…)lve/main/config.json:   0%|          | 0.00/998 [00:00<?, ?B/s]"
      ]
     },
     "metadata": {},
     "output_type": "display_data"
    },
    {
     "data": {
      "application/json": {
       "ascii": false,
       "bar_format": null,
       "colour": null,
       "elapsed": 0.0020339488983154297,
       "initial": 0,
       "n": 0,
       "ncols": null,
       "nrows": 29,
       "postfix": null,
       "prefix": "Downloading model.safetensors",
       "rate": null,
       "total": 1334400964,
       "unit": "B",
       "unit_divisor": 1000,
       "unit_scale": true
      },
      "application/vnd.jupyter.widget-view+json": {
       "model_id": "f9c300513b63494b9ea3d70e64742c19",
       "version_major": 2,
       "version_minor": 0
      },
      "text/plain": [
       "Downloading model.safetensors:   0%|          | 0.00/1.33G [00:00<?, ?B/s]"
      ]
     },
     "metadata": {},
     "output_type": "display_data"
    },
    {
     "name": "stderr",
     "output_type": "stream",
     "text": [
      "Some weights of the model checkpoint at dbmdz/bert-large-cased-finetuned-conll03-english were not used when initializing BertForTokenClassification: ['bert.pooler.dense.weight', 'bert.pooler.dense.bias']\n",
      "- This IS expected if you are initializing BertForTokenClassification from the checkpoint of a model trained on another task or with another architecture (e.g. initializing a BertForSequenceClassification model from a BertForPreTraining model).\n",
      "- This IS NOT expected if you are initializing BertForTokenClassification from the checkpoint of a model that you expect to be exactly identical (initializing a BertForSequenceClassification model from a BertForSequenceClassification model).\n"
     ]
    },
    {
     "data": {
      "application/json": {
       "ascii": false,
       "bar_format": null,
       "colour": null,
       "elapsed": 0.003952980041503906,
       "initial": 0,
       "n": 0,
       "ncols": null,
       "nrows": 29,
       "postfix": null,
       "prefix": "Downloading (…)okenizer_config.json",
       "rate": null,
       "total": 60,
       "unit": "B",
       "unit_divisor": 1000,
       "unit_scale": true
      },
      "application/vnd.jupyter.widget-view+json": {
       "model_id": "2dff90ee4890457b809cdc8883f6624e",
       "version_major": 2,
       "version_minor": 0
      },
      "text/plain": [
       "Downloading (…)okenizer_config.json:   0%|          | 0.00/60.0 [00:00<?, ?B/s]"
      ]
     },
     "metadata": {},
     "output_type": "display_data"
    },
    {
     "data": {
      "application/json": {
       "ascii": false,
       "bar_format": null,
       "colour": null,
       "elapsed": 0.0026574134826660156,
       "initial": 0,
       "n": 0,
       "ncols": null,
       "nrows": 29,
       "postfix": null,
       "prefix": "Downloading (…)solve/main/vocab.txt",
       "rate": null,
       "total": 213450,
       "unit": "B",
       "unit_divisor": 1000,
       "unit_scale": true
      },
      "application/vnd.jupyter.widget-view+json": {
       "model_id": "bc40dc8ff0e94eebaaef34d2bd31cbb9",
       "version_major": 2,
       "version_minor": 0
      },
      "text/plain": [
       "Downloading (…)solve/main/vocab.txt:   0%|          | 0.00/213k [00:00<?, ?B/s]"
      ]
     },
     "metadata": {},
     "output_type": "display_data"
    },
    {
     "name": "stdout",
     "output_type": "stream",
     "text": [
      "[{'end': 22,\n",
      "  'entity_group': 'PER',\n",
      "  'score': 0.9942148,\n",
      "  'start': 11,\n",
      "  'word': 'Ryan Llamas'},\n",
      " {'end': 73,\n",
      "  'entity_group': 'MISC',\n",
      "  'score': 0.94365454,\n",
      "  'start': 46,\n",
      "  'word': 'Natural Language Processing'},\n",
      " {'end': 96,\n",
      "  'entity_group': 'MISC',\n",
      "  'score': 0.80517983,\n",
      "  'start': 78,\n",
      "  'word': 'Information Theory'}]\n"
     ]
    },
    {
     "name": "stderr",
     "output_type": "stream",
     "text": [
      "c:\\users\\ryand\\appdata\\local\\programs\\python\\python310\\lib\\site-packages\\transformers\\pipelines\\token_classification.py:169: UserWarning: `grouped_entities` is deprecated and will be removed in version v5.0.0, defaulted to `aggregation_strategy=\"simple\"` instead.\n",
      "  warnings.warn(\n"
     ]
    }
   ],
   "source": [
    "classifier = pipeline(\n",
    "    \"ner\",\n",
    "    grouped_entities=True  # Groups multiple words together\n",
    ")\n",
    "results = classifier(\n",
    "    \"My name is Ryan Llamas. I have an interest in Natural Language Processing and Information Theory.\"\n",
    ")\n",
    "pprint.pprint(results)"
   ]
  },
  {
   "cell_type": "code",
   "execution_count": 11,
   "id": "ed939f3b-f15d-4518-a915-38c99bd43c41",
   "metadata": {},
   "outputs": [
    {
     "name": "stderr",
     "output_type": "stream",
     "text": [
      "No model was supplied, defaulted to distilbert-base-cased-distilled-squad and revision 626af31 (https://huggingface.co/distilbert-base-cased-distilled-squad).\n",
      "Using a pipeline without specifying a model name and revision in production is not recommended.\n"
     ]
    },
    {
     "name": "stdout",
     "output_type": "stream",
     "text": [
      "{'answer': 'great power comes great responsibility',\n",
      " 'end': 2295,\n",
      " 'score': 0.5177277326583862,\n",
      " 'start': 2257}\n"
     ]
    }
   ],
   "source": [
    "classifier = pipeline(\"question-answering\")\n",
    "results = classifier(\n",
    "    question=\"What is Spider-man's power?\",\n",
    "    context=\"Spider-Man is a superhero appearing in American comic books published by Marvel Comics. Created by writer-editor Stan Lee and artist Steve Ditko, he first appeared in the anthology comic book Amazing Fantasy #15 (August 1962) in the Silver Age of Comic Books. He has been featured in comic books, television shows, films, video games, novels, and plays. Spider-Man's secret identity is Peter Benjamin Parker, a teenage high school student and an orphan raised by his Aunt May and Uncle Ben in New York City after his parents Richard and Mary Parker died in a plane crash. Lee and Ditko had the character deal with the struggles of adolescence and financial issues and gave him many supporting characters, such as Flash Thompson, J. Jonah Jameson, and Harry Osborn; romantic interests Gwen Stacy, Mary Jane Watson, and the Black Cat; and enemies such as the Green Goblin, Doctor Octopus, and Venom. In his origin story, Spider-Man gets his superhuman spider-powers and abilities after being bitten by a radioactive spider; these include superhuman strength, agility, reflexes, stamina, durability, coordination, and balance, clinging to surfaces and ceilings like a spider, and detecting danger with his precognition ability called \\\"spider-sense\\\". He builds wrist-mounted \\\"web-shooter\\\" devices that shoot artificial spider-webs of his own design, which he uses both for fighting and for web-swinging across the city. Peter Parker originally used his powers for his own personal gain, but after his Uncle Ben was killed by a thief that Peter could not stop, he began to use his powers to fight crime by becoming Spider-Man. When Spider-Man first appeared in the early 1960s, teenagers in superhero comic books were usually relegated to the role of sidekick to the protagonist. The Spider-Man comic series broke ground by featuring Peter Parker, a high school student from Queens, New York, as Spider-Man's secret identity, whose \\\"self-obsessions with rejection, inadequacy, and loneliness\\\" were issues to which young readers could relate.[8] While Spider-Man was a quintessential sidekick, unlike previous teen heroes Bucky Barnes and Robin, Spider-Man had no superhero mentor like Captain America and Batman; he had learned the lesson for himself that \\\"with great power comes great responsibility\\\"—a line included in a text box in the final panel of the first Spider-Man's origin story, but later retroactively attributed to the late Uncle Ben Parker. Marvel has featured Spider-Man in several comic book series, the first and longest-lasting of which is The Amazing Spider-Man. Over the years, the Peter Parker character developed from a shy, nerdy New York City high school student to a troubled but outgoing college student, then a married high school teacher, and, in the late 2000s, a single freelance photographer. In the 2000s, he joins the Avengers. Doctor Octopus also took on the identity for a story arc spanning 2012–2014, following a body swap plot in which Peter appears to die.[9] Marvel has also published comic books featuring alternate versions of Spider-Man, including Spider-Man 2099, which features the adventures of Miguel O'Hara, the Spider-Man of the future; Ultimate Spider-Man, which features the adventures of a teenage Peter Parker in the alternate universe; and Ultimate Comics: Spider-Man, which depicts a teenager named Miles Morales who takes up the mantle of Spider-Man after Ultimate Peter Parker's apparent death. Miles later became a superhero in his own right and was brought into mainstream continuity, where he sometimes works alongside Peter. Spider-Man is one of the most popular and commercially successful superheroes.[10] He has appeared in countless forms of media, including several animated TV series: the first original animated series Spider-Man, with Paul Soles voicing the titular character, a live-action television series, syndicated newspaper comic strips, and multiple series of films. Spider-Man was first portrayed in live-action by Danny Seagren in Spidey Super Stories, a recurring skit on The Electric Company from 1974 to 1977.[11] In live-action films, Spider-Man has been portrayed by actors Tobey Maguire in Sam Raimi's Spider-Man trilogy, by Andrew Garfield in two films directed by Marc Webb,[12] and in the Marvel Cinematic Universe by Tom Holland. Reeve Carney originally starred as Spider-Man in the 2010 Broadway musical Spider-Man: Turn Off the Dark.[13] Spider-Man was also voiced by Jake Johnson and Chris Pine in the animated film Spider-Man: Into the Spider-Verse. Spider-Man has been well-received as a superhero and comic book character; he is often ranked as one of the most popular and iconic comic book superheroes of all time and in all of fiction.\",\n",
    ")\n",
    "pprint.pprint(results)"
   ]
  },
  {
   "cell_type": "code",
   "execution_count": 12,
   "id": "360aa6c2-911b-456a-b8a2-d85ab3891746",
   "metadata": {},
   "outputs": [
    {
     "name": "stderr",
     "output_type": "stream",
     "text": [
      "c:\\users\\ryand\\appdata\\local\\programs\\python\\python310\\lib\\site-packages\\transformers\\models\\marian\\tokenization_marian.py:194: UserWarning: Recommended: pip install sacremoses.\n",
      "  warnings.warn(\"Recommended: pip install sacremoses.\")\n"
     ]
    },
    {
     "name": "stdout",
     "output_type": "stream",
     "text": [
      "[{'translation_text': 'This course is produced by Hugging Face'}]\n"
     ]
    }
   ],
   "source": [
    "classifier = pipeline(\"translation\", model=\"Helsinki-NLP/opus-mt-fr-en\")\n",
    "results = classifier(\"Ce cours est produit par Hugging Face\") # French\n",
    "pprint.pprint(results)"
   ]
  },
  {
   "cell_type": "code",
   "execution_count": 13,
   "id": "98416680-5441-4962-954c-715d65b0f84a",
   "metadata": {},
   "outputs": [
    {
     "name": "stdout",
     "output_type": "stream",
     "text": [
      "{'attention_mask': tensor([[1, 1, 1, 1, 1, 1, 1, 1, 1, 1, 1],\n",
      "        [1, 1, 1, 1, 1, 1, 1, 1, 1, 1, 1]]),\n",
      " 'input_ids': tensor([[ 101, 2023, 2003, 1037, 4658, 6251, 2000, 4339, 2041,  999,  102],\n",
      "        [ 101, 1045, 4687, 2054, 2842, 1045, 2064, 4339, 2182, 1012,  102]])}\n"
     ]
    }
   ],
   "source": [
    "checkpoint = \"distilbert-base-uncased-finetuned-sst-2-english\"\n",
    "tokenizer = AutoTokenizer.from_pretrained(checkpoint)\n",
    "\n",
    "raw_inputs = [\n",
    "    \"This is a cool sentence to write out!\",\n",
    "    \"I wonder what else I can write here.\"\n",
    "]\n",
    "# Tokenize\n",
    "inputs = tokenizer(raw_inputs, padding=True, truncation=True, return_tensors=\"pt\")  # Return a pytoutch tensor\n",
    "pprint.pprint(inputs)"
   ]
  },
  {
   "cell_type": "code",
   "execution_count": 14,
   "id": "d190306d-739f-4ca1-baac-7d48334b3a0c",
   "metadata": {},
   "outputs": [
    {
     "name": "stdout",
     "output_type": "stream",
     "text": [
      "tensor([[-4.0635,  4.3960],\n",
      "        [ 2.4563, -1.9375]], grad_fn=<AddmmBackward0>)\n"
     ]
    }
   ],
   "source": [
    "# Model\n",
    "model = AutoModelForSequenceClassification.from_pretrained(checkpoint)\n",
    "outputs = model(**inputs)\n",
    "pprint.pprint(outputs.logits)\n",
    "# pprint.pprint(outputs.last_hidden_state.shape)\n"
   ]
  },
  {
   "cell_type": "code",
   "execution_count": 15,
   "id": "da3818bb-c4d2-4b15-854d-5e2c85003b9a",
   "metadata": {},
   "outputs": [
    {
     "name": "stdout",
     "output_type": "stream",
     "text": [
      "tensor([[2.1184e-04, 9.9979e-01],\n",
      "        [9.8780e-01, 1.2203e-02]], grad_fn=<SoftmaxBackward0>)\n"
     ]
    }
   ],
   "source": [
    "# Postprocessing (Logits to probabilities through softmax)\n",
    "predictions = torch.nn.functional.softmax(outputs.logits, dim=-1)\n",
    "pprint.pprint(predictions)"
   ]
  },
  {
   "cell_type": "code",
   "execution_count": null,
   "id": "f83d67fe-5122-4905-bec9-e399c0a71dbd",
   "metadata": {},
   "outputs": [],
   "source": []
  }
 ],
 "metadata": {
  "kernelspec": {
   "display_name": "Python 3 (ipykernel)",
   "language": "python",
   "name": "python3"
  },
  "language_info": {
   "codemirror_mode": {
    "name": "ipython",
    "version": 3
   },
   "file_extension": ".py",
   "mimetype": "text/x-python",
   "name": "python",
   "nbconvert_exporter": "python",
   "pygments_lexer": "ipython3",
   "version": "3.10.3"
  }
 },
 "nbformat": 4,
 "nbformat_minor": 5
}

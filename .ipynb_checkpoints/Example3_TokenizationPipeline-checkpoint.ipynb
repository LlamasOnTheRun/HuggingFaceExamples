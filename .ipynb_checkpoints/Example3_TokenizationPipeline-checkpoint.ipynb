{
 "cells": [
  {
   "cell_type": "code",
   "execution_count": 1,
   "id": "a7f661e4-2f5e-4f1f-b674-0022511e7190",
   "metadata": {},
   "outputs": [],
   "source": [
    "from transformers import AutoTokenizer"
   ]
  },
  {
   "cell_type": "code",
   "execution_count": 2,
   "id": "fed20290-9fa0-47ce-beb2-be06225681f9",
   "metadata": {},
   "outputs": [
    {
     "name": "stdout",
     "output_type": "stream",
     "text": [
      "{'input_ids': [101, 2053, 3524, 3531, 2123, 1005, 1056, 19204, 4697, 2033, 999, 102], 'token_type_ids': [0, 0, 0, 0, 0, 0, 0, 0, 0, 0, 0, 0], 'attention_mask': [1, 1, 1, 1, 1, 1, 1, 1, 1, 1, 1, 1]}\n",
      "[101, 2053, 3524, 3531, 2123, 1005, 1056, 19204, 4697, 2033, 999, 102]\n",
      "['no', 'wait', 'please', 'don', \"'\", 't', 'token', '##ize', 'me', ',', 'but', 'this', 'time', 'with', 'sub', '-', 'words', '!']\n",
      "[CLS] no wait please don't tokenize me! [SEP]\n"
     ]
    }
   ],
   "source": [
    "tokenizer = AutoTokenizer.from_pretrained(\"bert-base-uncased\")\n",
    "inputs = tokenizer(\"No wait please don't tokenize me!\")\n",
    "tokens = tokenizer.tokenize(\"No wait please don't tokenize me, but this time with sub-words!\")\n",
    "print(inputs)\n",
    "print(inputs[\"input_ids\"])\n",
    "print(tokens)\n",
    "print(tokenizer.decode(inputs[\"input_ids\"]))  # Will show the decoded tokens\n"
   ]
  },
  {
   "cell_type": "code",
   "execution_count": 3,
   "id": "ebe9bc87-150f-40a5-96fc-1bd2ff58518c",
   "metadata": {},
   "outputs": [
    {
     "name": "stderr",
     "output_type": "stream",
     "text": [
      "You're using a AlbertTokenizerFast tokenizer. Please note that with a fast tokenizer, using the `__call__` method is faster than using a method to encode the text followed by a call to the `pad` method to get a padded encoding.\n"
     ]
    },
    {
     "name": "stdout",
     "output_type": "stream",
     "text": [
      "['▁oh', '▁man', '▁anyone', '▁but', '▁albert', '!']\n",
      "[1962, 169, 1276, 47, 2953, 187]\n",
      "[2, 1962, 169, 1276, 47, 2953, 187, 3]\n"
     ]
    }
   ],
   "source": [
    "tokenizer = AutoTokenizer.from_pretrained(\"albert-base-v1\")\n",
    "tokens = tokenizer.tokenize(\"Oh man anyone but albert!\")\n",
    "print(tokens)\n",
    "input_ids = tokenizer.convert_tokens_to_ids(tokens)\n",
    "print(input_ids)\n",
    "final_inputs = tokenizer.prepare_for_model(input_ids)  # Will add special tokens\n",
    "print(final_inputs[\"input_ids\"])"
   ]
  },
  {
   "cell_type": "code",
   "execution_count": 4,
   "id": "71ac5a3f-5fc2-41f0-8bd4-9a6edd29750d",
   "metadata": {},
   "outputs": [
    {
     "name": "stdout",
     "output_type": "stream",
     "text": [
      "[1045, 1005, 2310, 2042, 3403, 2005, 1037, 17662, 12172, 2607, 2026, 2878, 2166, 1012]\n",
      "[1045, 2293, 2023, 999]\n"
     ]
    }
   ],
   "source": [
    "checkpoint = \"distilbert-base-uncased-finetuned-sst-2-english\"\n",
    "tokenizer = AutoTokenizer.from_pretrained(checkpoint)\n",
    "sentences = [\n",
    "    \"I've been waiting for a HuggingFace course my whole life.\",\n",
    "    \"I love this!\",\n",
    "]\n",
    "tokens = [tokenizer.tokenize(sentence) for sentence in sentences]\n",
    "ids = [tokenizer.convert_tokens_to_ids(token) for token in tokens]\n",
    "print(ids[0])\n",
    "print(ids[1])"
   ]
  },
  {
   "cell_type": "code",
   "execution_count": null,
   "id": "426b7568-3b5a-4134-a5d4-ff6c2d406a9f",
   "metadata": {},
   "outputs": [],
   "source": []
  }
 ],
 "metadata": {
  "kernelspec": {
   "display_name": "Python 3 (ipykernel)",
   "language": "python",
   "name": "python3"
  },
  "language_info": {
   "codemirror_mode": {
    "name": "ipython",
    "version": 3
   },
   "file_extension": ".py",
   "mimetype": "text/x-python",
   "name": "python",
   "nbconvert_exporter": "python",
   "pygments_lexer": "ipython3",
   "version": "3.10.3"
  }
 },
 "nbformat": 4,
 "nbformat_minor": 5
}

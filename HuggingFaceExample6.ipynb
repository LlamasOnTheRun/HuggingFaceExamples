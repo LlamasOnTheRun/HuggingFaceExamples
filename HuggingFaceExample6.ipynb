{
 "cells": [
  {
   "cell_type": "code",
   "execution_count": 1,
   "id": "48ef1987-f9f7-4b88-9b0a-66b4030e4c1f",
   "metadata": {},
   "outputs": [
    {
     "name": "stdout",
     "output_type": "stream",
     "text": [
      "Requirement already satisfied: datasets in c:\\users\\ryand\\appdata\\local\\programs\\python\\python310\\lib\\site-packages (2.14.4)\n",
      "Requirement already satisfied: transformers[sentencepiece] in c:\\users\\ryand\\appdata\\local\\programs\\python\\python310\\lib\\site-packages (4.32.0)\n",
      "Requirement already satisfied: aiohttp in c:\\users\\ryand\\appdata\\local\\programs\\python\\python310\\lib\\site-packages (from datasets) (3.8.5)\n",
      "Requirement already satisfied: fsspec[http]>=2021.11.1 in c:\\users\\ryand\\appdata\\local\\programs\\python\\python310\\lib\\site-packages (from datasets) (2023.6.0)\n",
      "Requirement already satisfied: tqdm>=4.62.1 in c:\\users\\ryand\\appdata\\local\\programs\\python\\python310\\lib\\site-packages (from datasets) (4.62.3)\n",
      "Requirement already satisfied: packaging in c:\\users\\ryand\\appdata\\local\\programs\\python\\python310\\lib\\site-packages (from datasets) (21.3)\n",
      "Requirement already satisfied: pyarrow>=8.0.0 in c:\\users\\ryand\\appdata\\local\\programs\\python\\python310\\lib\\site-packages (from datasets) (13.0.0)\n",
      "Requirement already satisfied: dill<0.3.8,>=0.3.0 in c:\\users\\ryand\\appdata\\local\\programs\\python\\python310\\lib\\site-packages (from datasets) (0.3.7)\n",
      "Requirement already satisfied: huggingface-hub<1.0.0,>=0.14.0 in c:\\users\\ryand\\appdata\\local\\programs\\python\\python310\\lib\\site-packages (from datasets) (0.16.4)\n",
      "Requirement already satisfied: requests>=2.19.0 in c:\\users\\ryand\\appdata\\local\\programs\\python\\python310\\lib\\site-packages (from datasets) (2.28.1)\n",
      "Requirement already satisfied: pyyaml>=5.1 in c:\\users\\ryand\\appdata\\local\\programs\\python\\python310\\lib\\site-packages (from datasets) (6.0.1)\n",
      "Requirement already satisfied: xxhash in c:\\users\\ryand\\appdata\\local\\programs\\python\\python310\\lib\\site-packages (from datasets) (3.3.0)\n",
      "Requirement already satisfied: multiprocess in c:\\users\\ryand\\appdata\\local\\programs\\python\\python310\\lib\\site-packages (from datasets) (0.70.15)\n",
      "Requirement already satisfied: numpy>=1.17 in c:\\users\\ryand\\appdata\\local\\programs\\python\\python310\\lib\\site-packages (from datasets) (1.24.1)\n",
      "Requirement already satisfied: pandas in c:\\users\\ryand\\appdata\\local\\programs\\python\\python310\\lib\\site-packages (from datasets) (1.4.3)\n",
      "Requirement already satisfied: tokenizers!=0.11.3,<0.14,>=0.11.1 in c:\\users\\ryand\\appdata\\local\\programs\\python\\python310\\lib\\site-packages (from transformers[sentencepiece]) (0.13.3)\n",
      "Requirement already satisfied: filelock in c:\\users\\ryand\\appdata\\local\\programs\\python\\python310\\lib\\site-packages (from transformers[sentencepiece]) (3.12.2)\n",
      "Requirement already satisfied: regex!=2019.12.17 in c:\\users\\ryand\\appdata\\local\\programs\\python\\python310\\lib\\site-packages (from transformers[sentencepiece]) (2022.1.18)\n",
      "Requirement already satisfied: safetensors>=0.3.1 in c:\\users\\ryand\\appdata\\local\\programs\\python\\python310\\lib\\site-packages (from transformers[sentencepiece]) (0.3.3)\n",
      "Requirement already satisfied: protobuf in c:\\users\\ryand\\appdata\\local\\programs\\python\\python310\\lib\\site-packages (from transformers[sentencepiece]) (4.24.2)\n",
      "Requirement already satisfied: sentencepiece!=0.1.92,>=0.1.91 in c:\\users\\ryand\\appdata\\local\\programs\\python\\python310\\lib\\site-packages (from transformers[sentencepiece]) (0.1.99)\n",
      "Requirement already satisfied: async-timeout<5.0,>=4.0.0a3 in c:\\users\\ryand\\appdata\\local\\programs\\python\\python310\\lib\\site-packages (from aiohttp->datasets) (4.0.3)\n",
      "Requirement already satisfied: charset-normalizer<4.0,>=2.0 in c:\\users\\ryand\\appdata\\local\\programs\\python\\python310\\lib\\site-packages (from aiohttp->datasets) (2.1.0)\n",
      "Requirement already satisfied: multidict<7.0,>=4.5 in c:\\users\\ryand\\appdata\\local\\programs\\python\\python310\\lib\\site-packages (from aiohttp->datasets) (6.0.4)\n",
      "Requirement already satisfied: yarl<2.0,>=1.0 in c:\\users\\ryand\\appdata\\local\\programs\\python\\python310\\lib\\site-packages (from aiohttp->datasets) (1.9.2)\n",
      "Requirement already satisfied: attrs>=17.3.0 in c:\\users\\ryand\\appdata\\local\\programs\\python\\python310\\lib\\site-packages (from aiohttp->datasets) (23.1.0)\n",
      "Requirement already satisfied: aiosignal>=1.1.2 in c:\\users\\ryand\\appdata\\local\\programs\\python\\python310\\lib\\site-packages (from aiohttp->datasets) (1.3.1)\n",
      "Requirement already satisfied: frozenlist>=1.1.1 in c:\\users\\ryand\\appdata\\local\\programs\\python\\python310\\lib\\site-packages (from aiohttp->datasets) (1.4.0)\n",
      "Requirement already satisfied: typing-extensions>=3.7.4.3 in c:\\users\\ryand\\appdata\\local\\programs\\python\\python310\\lib\\site-packages (from huggingface-hub<1.0.0,>=0.14.0->datasets) (4.5.0)\n",
      "Requirement already satisfied: pyparsing!=3.0.5,>=2.0.2 in c:\\users\\ryand\\appdata\\local\\programs\\python\\python310\\lib\\site-packages (from packaging->datasets) (3.0.9)\n",
      "Requirement already satisfied: certifi>=2017.4.17 in c:\\users\\ryand\\appdata\\local\\programs\\python\\python310\\lib\\site-packages (from requests>=2.19.0->datasets) (2022.6.15)\n",
      "Requirement already satisfied: urllib3<1.27,>=1.21.1 in c:\\users\\ryand\\appdata\\local\\programs\\python\\python310\\lib\\site-packages (from requests>=2.19.0->datasets) (1.26.10)\n",
      "Requirement already satisfied: idna<4,>=2.5 in c:\\users\\ryand\\appdata\\local\\programs\\python\\python310\\lib\\site-packages (from requests>=2.19.0->datasets) (3.3)\n",
      "Requirement already satisfied: colorama in c:\\users\\ryand\\appdata\\local\\programs\\python\\python310\\lib\\site-packages (from tqdm>=4.62.1->datasets) (0.4.4)\n",
      "Requirement already satisfied: pytz>=2020.1 in c:\\users\\ryand\\appdata\\local\\programs\\python\\python310\\lib\\site-packages (from pandas->datasets) (2022.1)\n",
      "Requirement already satisfied: python-dateutil>=2.8.1 in c:\\users\\ryand\\appdata\\local\\programs\\python\\python310\\lib\\site-packages (from pandas->datasets) (2.8.2)\n",
      "Requirement already satisfied: six>=1.5 in c:\\users\\ryand\\appdata\\local\\programs\\python\\python310\\lib\\site-packages (from python-dateutil>=2.8.1->pandas->datasets) (1.16.0)\n",
      "\n",
      "[notice] A new release of pip available: 22.1.2 -> 23.2.1\n",
      "[notice] To update, run: python.exe -m pip install --upgrade pip\n"
     ]
    },
    {
     "name": "stderr",
     "output_type": "stream",
     "text": [
      "WARNING: Ignoring invalid distribution -upyterlab (c:\\users\\ryand\\appdata\\local\\programs\\python\\python310\\lib\\site-packages)\n",
      "WARNING: Ignoring invalid distribution -upyterlab (c:\\users\\ryand\\appdata\\local\\programs\\python\\python310\\lib\\site-packages)\n",
      "WARNING: Ignoring invalid distribution -upyterlab (c:\\users\\ryand\\appdata\\local\\programs\\python\\python310\\lib\\site-packages)\n",
      "WARNING: Ignoring invalid distribution -upyterlab (c:\\users\\ryand\\appdata\\local\\programs\\python\\python310\\lib\\site-packages)\n",
      "WARNING: Ignoring invalid distribution -upyterlab (c:\\users\\ryand\\appdata\\local\\programs\\python\\python310\\lib\\site-packages)\n",
      "WARNING: Ignoring invalid distribution -upyterlab (c:\\users\\ryand\\appdata\\local\\programs\\python\\python310\\lib\\site-packages)\n"
     ]
    }
   ],
   "source": [
    "! pip install datasets transformers[sentencepiece]"
   ]
  },
  {
   "cell_type": "code",
   "execution_count": 8,
   "id": "1af7bdb8-bb79-4014-a9a1-ac3013a69f10",
   "metadata": {},
   "outputs": [
    {
     "name": "stdout",
     "output_type": "stream",
     "text": [
      "DatasetDict({\n",
      "    train: Dataset({\n",
      "        features: ['labels', 'input_ids', 'token_type_ids', 'attention_mask'],\n",
      "        num_rows: 3668\n",
      "    })\n",
      "    validation: Dataset({\n",
      "        features: ['labels', 'input_ids', 'token_type_ids', 'attention_mask'],\n",
      "        num_rows: 408\n",
      "    })\n",
      "    test: Dataset({\n",
      "        features: ['labels', 'input_ids', 'token_type_ids', 'attention_mask'],\n",
      "        num_rows: 1725\n",
      "    })\n",
      "})\n",
      "torch.Size([3668, 128])\n",
      "tensor([[  101,  7277,  2180,  ...,     0,     0,     0],\n",
      "        [  101, 10684,  2599,  ...,     0,     0,     0],\n",
      "        [  101,  1220,  1125,  ...,     0,     0,     0],\n",
      "        ...,\n",
      "        [  101,   107,  1284,  ...,     0,     0,     0],\n",
      "        [  101,  1109,  1136,  ...,     0,     0,     0],\n",
      "        [  101,  1109,  1476,  ...,     0,     0,     0]])\n"
     ]
    }
   ],
   "source": [
    "from datasets import load_dataset\n",
    "from transformers import AutoTokenizer\n",
    "\n",
    "raw_datasets = load_dataset(\"glue\", \"mrpc\")\n",
    "checkpoint = \"bert-base-cased\"\n",
    "tokenizer = AutoTokenizer.from_pretrained(checkpoint)\n",
    "\n",
    "def tokenize_function(examples):\n",
    "    return tokenizer(\n",
    "        examples[\"sentence1\"], examples[\"sentence2\"], padding=\"max_length\", truncation=True, max_length=128 # Preprocessdataset with fixed padding\n",
    "    )\n",
    "\n",
    "tokenized_datasets = raw_datasets.map(tokenize_function, batched=True) # Matches each data row to the function to tokenize it\n",
    "tokenized_datasets = tokenized_datasets.remove_columns([\"idx\", \"sentence1\", \"sentence2\"])\n",
    "tokenized_datasets = tokenized_datasets.rename_column(\"label\", \"labels\")\n",
    "tokenized_datasets = tokenized_datasets.with_format(\"torch\")\n",
    "print(tokenized_datasets)\n",
    "print(tokenized_datasets[\"train\"][\"input_ids\"].shape)\n",
    "print(tokenized_datasets[\"train\"][\"input_ids\"])"
   ]
  },
  {
   "cell_type": "code",
   "execution_count": 13,
   "id": "041b0fe1-288c-4b8e-a973-bd0f8ae3ac0f",
   "metadata": {},
   "outputs": [
    {
     "name": "stdout",
     "output_type": "stream",
     "text": [
      "Step:  0\n",
      "torch.Size([16, 128])\n",
      "tensor([[  101,  1130,  5337,  ...,     0,     0,     0],\n",
      "        [  101,   139, 19671,  ...,     0,     0,     0],\n",
      "        [  101,  1109,  1433,  ...,     0,     0,     0],\n",
      "        ...,\n",
      "        [  101,  1258,  1744,  ...,     0,     0,     0],\n",
      "        [  101,   107,  1284,  ...,     0,     0,     0],\n",
      "        [  101,  1109, 12594,  ...,     0,     0,     0]])\n",
      "Step:  1\n",
      "torch.Size([16, 128])\n",
      "tensor([[  101,   107,  1109,  ...,     0,     0,     0],\n",
      "        [  101, 28019,  2138,  ...,     0,     0,     0],\n",
      "        [  101,  3570,   117,  ...,     0,     0,     0],\n",
      "        ...,\n",
      "        [  101,  1109,  1295,  ...,     0,     0,     0],\n",
      "        [  101, 13719,  2105,  ...,     0,     0,     0],\n",
      "        [  101,  1109,  2380,  ...,     0,     0,     0]])\n",
      "Step:  2\n",
      "torch.Size([16, 128])\n",
      "tensor([[  101,  1646,  3912,  ...,     0,     0,     0],\n",
      "        [  101,  1130,  1729,  ...,     0,     0,     0],\n",
      "        [  101,  2677, 18399,  ...,     0,     0,     0],\n",
      "        ...,\n",
      "        [  101,  1130,   170,  ...,     0,     0,     0],\n",
      "        [  101,  6096,  1145,  ...,     0,     0,     0],\n",
      "        [  101,  2979,   140,  ...,     0,     0,     0]])\n",
      "Step:  3\n",
      "torch.Size([16, 128])\n",
      "tensor([[  101,   138,  9658,  ...,     0,     0,     0],\n",
      "        [  101,  2558, 17784,  ...,     0,     0,     0],\n",
      "        [  101,   107,  1249,  ...,     0,     0,     0],\n",
      "        ...,\n",
      "        [  101,   107,  1828,  ...,     0,     0,     0],\n",
      "        [  101,  1573,  5567,  ...,     0,     0,     0],\n",
      "        [  101,   107,  4317,  ...,     0,     0,     0]])\n",
      "Step:  4\n",
      "torch.Size([16, 128])\n",
      "tensor([[  101, 14593,  4233,  ...,     0,     0,     0],\n",
      "        [  101,  1109,  1844,  ...,     0,     0,     0],\n",
      "        [  101,  1109, 13928,  ...,     0,     0,     0],\n",
      "        ...,\n",
      "        [  101,  1109, 12211,  ...,     0,     0,     0],\n",
      "        [  101, 19585, 10582,  ...,     0,     0,     0],\n",
      "        [  101,   107, 22449,  ...,     0,     0,     0]])\n",
      "Step:  5\n",
      "torch.Size([16, 128])\n",
      "tensor([[  101,  3435,  3568,  ...,     0,     0,     0],\n",
      "        [  101,  1109,  1476,  ...,     0,     0,     0],\n",
      "        [  101, 15821, 12344,  ...,     0,     0,     0],\n",
      "        ...,\n",
      "        [  101, 17574,  1456,  ...,     0,     0,     0],\n",
      "        [  101,   107,   146,  ...,     0,     0,     0],\n",
      "        [  101,   138,  1248,  ...,     0,     0,     0]])\n",
      "Step:  6\n",
      "torch.Size([16, 128])\n",
      "tensor([[  101,  1370,  1103,  ...,     0,     0,     0],\n",
      "        [  101,  1556,  1103,  ...,     0,     0,     0],\n",
      "        [  101,  1109,  1419,  ...,     0,     0,     0],\n",
      "        ...,\n",
      "        [  101,  1799,  1122,  ...,     0,     0,     0],\n",
      "        [  101,  4254,  1214,  ...,     0,     0,     0],\n",
      "        [  101,   155, 23007,  ...,     0,     0,     0]])\n"
     ]
    }
   ],
   "source": [
    "from torch.utils.data import DataLoader # Pytorch Dataset Loader\n",
    "\n",
    "train_dataloader = DataLoader(tokenized_datasets[\"train\"], batch_size=16, shuffle=True) # \"batch_size=16\" will store 16 rows of data/tokens in one selection\n",
    "\n",
    "for step, batch in enumerate(train_dataloader): # Look at the first 5 elements in \"train_dataloader\"\n",
    "    print(\"Step: \", step)\n",
    "    print(batch[\"input_ids\"].shape)\n",
    "    print(batch[\"input_ids\"])\n",
    "    if step > 5:\n",
    "        break"
   ]
  },
  {
   "cell_type": "code",
   "execution_count": 14,
   "id": "92d5e1f0-f886-4a42-bae2-2fdb104f2c0c",
   "metadata": {},
   "outputs": [
    {
     "data": {
      "application/json": {
       "ascii": false,
       "bar_format": null,
       "colour": null,
       "elapsed": 0.003492116928100586,
       "initial": 0,
       "n": 0,
       "ncols": null,
       "nrows": 29,
       "postfix": null,
       "prefix": "Map",
       "rate": null,
       "total": 3668,
       "unit": " examples",
       "unit_divisor": 1000,
       "unit_scale": false
      },
      "application/vnd.jupyter.widget-view+json": {
       "model_id": "",
       "version_major": 2,
       "version_minor": 0
      },
      "text/plain": [
       "Map:   0%|          | 0/3668 [00:00<?, ? examples/s]"
      ]
     },
     "metadata": {},
     "output_type": "display_data"
    },
    {
     "data": {
      "application/json": {
       "ascii": false,
       "bar_format": null,
       "colour": null,
       "elapsed": 0.0019800662994384766,
       "initial": 0,
       "n": 0,
       "ncols": null,
       "nrows": 29,
       "postfix": null,
       "prefix": "Map",
       "rate": null,
       "total": 408,
       "unit": " examples",
       "unit_divisor": 1000,
       "unit_scale": false
      },
      "application/vnd.jupyter.widget-view+json": {
       "model_id": "",
       "version_major": 2,
       "version_minor": 0
      },
      "text/plain": [
       "Map:   0%|          | 0/408 [00:00<?, ? examples/s]"
      ]
     },
     "metadata": {},
     "output_type": "display_data"
    },
    {
     "data": {
      "application/json": {
       "ascii": false,
       "bar_format": null,
       "colour": null,
       "elapsed": 0.0019769668579101562,
       "initial": 0,
       "n": 0,
       "ncols": null,
       "nrows": 29,
       "postfix": null,
       "prefix": "Map",
       "rate": null,
       "total": 1725,
       "unit": " examples",
       "unit_divisor": 1000,
       "unit_scale": false
      },
      "application/vnd.jupyter.widget-view+json": {
       "model_id": "",
       "version_major": 2,
       "version_minor": 0
      },
      "text/plain": [
       "Map:   0%|          | 0/1725 [00:00<?, ? examples/s]"
      ]
     },
     "metadata": {},
     "output_type": "display_data"
    }
   ],
   "source": [
    "from datasets import load_dataset\n",
    "from transformers import AutoTokenizer\n",
    "\n",
    "raw_datasets = load_dataset(\"glue\", \"mrpc\")\n",
    "checkpoint = \"bert-base-cased\"\n",
    "tokenizer = AutoTokenizer.from_pretrained(checkpoint)\n",
    "\n",
    "def tokenize_function(examples):\n",
    "    return tokenizer(examples[\"sentence1\"], examples[\"sentence2\"], truncation=True) # \"max_length=128\" is now removed\n",
    "\n",
    "tokenized_datasets = raw_datasets.map(tokenize_function, batched=True)\n",
    "tokenized_datasets = tokenized_datasets.remove_columns([\"idx\", \"sentence1\", \"sentence2\"])\n",
    "tokenized_datasets = tokenized_datasets.rename_column(\"label\", \"labels\")\n",
    "tokenized_datasets = tokenized_datasets.with_format(\"torch\")"
   ]
  },
  {
   "cell_type": "code",
   "execution_count": 17,
   "id": "67138de6-e763-43a2-a9f2-8a94f6dc5c5c",
   "metadata": {},
   "outputs": [
    {
     "name": "stdout",
     "output_type": "stream",
     "text": [
      "torch.Size([16, 75])\n",
      "torch.Size([16, 78])\n",
      "torch.Size([16, 80])\n",
      "torch.Size([16, 74])\n",
      "torch.Size([16, 75])\n",
      "torch.Size([16, 79])\n",
      "torch.Size([16, 73])\n"
     ]
    }
   ],
   "source": [
    "from torch.utils.data import DataLoader\n",
    "from transformers import DataCollatorWithPadding # Data collator that will dynamically pad the inputs received.\n",
    "\n",
    "data_collator = DataCollatorWithPadding(tokenizer) # Performing a collate with \"max_length\" removed \n",
    "train_dataloader = DataLoader(\n",
    "    tokenized_datasets[\"train\"],\n",
    "    batch_size=16, \n",
    "    shuffle=True, \n",
    "    # Will ensure data is generated of various lengths below 128\n",
    "    collate_fn=data_collator \n",
    ")\n",
    "\n",
    "for step, batch in enumerate(train_dataloader):\n",
    "    print(batch[\"input_ids\"].shape)\n",
    "    if step > 5:\n",
    "        break"
   ]
  },
  {
   "cell_type": "code",
   "execution_count": null,
   "id": "ae9cb31c-abed-4c3b-862e-4d8bc6917c61",
   "metadata": {},
   "outputs": [],
   "source": []
  }
 ],
 "metadata": {
  "kernelspec": {
   "display_name": "Python 3 (ipykernel)",
   "language": "python",
   "name": "python3"
  },
  "language_info": {
   "codemirror_mode": {
    "name": "ipython",
    "version": 3
   },
   "file_extension": ".py",
   "mimetype": "text/x-python",
   "name": "python",
   "nbconvert_exporter": "python",
   "pygments_lexer": "ipython3",
   "version": "3.10.3"
  }
 },
 "nbformat": 4,
 "nbformat_minor": 5
}
